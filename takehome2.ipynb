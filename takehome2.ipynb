{
 "cells": [
  {
   "cell_type": "markdown",
   "metadata": {},
   "source": [
    "# Mathematical Modeling: Takehome 2:\n",
    "## Chapter 7: 10, 11abce; Chapter 8: 2, 3\n",
    "### Author: Mitch Lowry <br> Date: April 22, 2016"
   ]
  },
  {
   "cell_type": "markdown",
   "metadata": {},
   "source": [
    "**Problem 7.10:** (Murphy's Law, part $III$) A doctor of internal medicine with a busy practice expects to be called into the hospital to respond to a serious heart attack on average about once every two weeks. Assume that heart attacks in this physician's patient population occur at random with this rate. Once such emergency call is a challenge. Two such calls in a single day is a disaster."
   ]
  },
  {
   "cell_type": "markdown",
   "metadata": {},
   "source": [
    "__(a) How many heart attacks should the physician expect to respond to in a single year?__"
   ]
  },
  {
   "cell_type": "markdown",
   "metadata": {},
   "source": [
    "Let the discrete random variable $X$ be the number of heart attacks the physician sees in a year. The event space here is $D = [0, \\infty)$. To find $E(X)$ we must use the computation\n",
    "\n",
    "<br>\n",
    "\n",
    "$$E(X) = \\sum_{x \\in D} x \\cdot P(X = x)$$,\n",
    "\n",
    "<br>\n",
    "\n",
    "which requires a probability density function for $X$. This can easily be obtained because the problem clearly describes $X$ as a Poisson process. Since the heartattacks occur at random with this rate, it is okay to adjust the rate to a yearly rate. We take the $\\lambda$ value for a two week period, divide by the number of days in two weeks, and then multiply by the number of days in a year, so $\\lambda = 365/14$; thus, using the equation for the pdf of a Poisson distribution we have\n",
    "\n",
    "<br>\n",
    "\n",
    "$P(X = x) = \\dfrac{\\lambda^x \\mathrm{e}^{-\\lambda}}{x!} = \\dfrac{(365/14)^x \\mathrm{e}^{-(365/14)}}{x!}$.\n",
    "\n",
    "<br> \n",
    "\n",
    "Using $P$ we compute the expected value below. This is clearly a converging sum, so we stop computation when the expected value begins to increase by less than .01 percent."
   ]
  },
  {
   "cell_type": "code",
   "execution_count": 1,
   "metadata": {
    "collapsed": false
   },
   "outputs": [
    {
     "name": "stdout",
     "output_type": "stream",
     "text": [
      "The above calculation stopped after considering 48 heart attacks, and gives an approximate \n",
      "expected value of 26.06945410114863.\n",
      "\n",
      "Note that 365/14 = 26.071428571428573.\n"
     ]
    }
   ],
   "source": [
    "import math\n",
    "\n",
    "def pdf(lamb, freq):\n",
    "    return (lamb**freq*math.e**(-lamb)/math.factorial(freq))\n",
    "\n",
    "def percent_increased(final, initial):\n",
    "    return (final - initial)/initial * 100\n",
    "\n",
    "percent_increase = 10000\n",
    "ave_rate = 365/14\n",
    "sum_index = 0\n",
    "expected_value = 0\n",
    "\n",
    "while percent_increase > .01:\n",
    "    sum_index += 1  #Can put this here because 0 term does not matter\n",
    "    expected_value_prev = expected_value\n",
    "    expected_value += pdf(ave_rate, sum_index)*sum_index\n",
    "    if expected_value_prev != 0:\n",
    "        percent_increase = percent_increased(expected_value, expected_value_prev)\n",
    "\n",
    "print(\"The above calculation stopped after considering \" + str(sum_index) + \" heart\" + \\\n",
    "      \" attacks, and gives an approximate \" + '\\n' + \"expected value of \" + \\\n",
    "      str(expected_value) + \".\")\n",
    "print(\"\\nNote that 365/14 = \" + str(365/14) + \".\")"
   ]
  },
  {
   "cell_type": "markdown",
   "metadata": {},
   "source": [
    "We have proven previously that $E(X) = \\lambda$ for a Poisson distribution, so the fact that the sum we computed converged to a number very close to $365/14$ is not surprising, given that we stated $\\lambda = 365/14$. It was a cool check of the concept, nonetheless. It would have made more sense to stop the computation when I was certain the computation was within .01 percent of the actual value by using theorems abouts infinite series."
   ]
  },
  {
   "cell_type": "markdown",
   "metadata": {},
   "source": [
    "__(b) Explain why the probability, $H_{n}$, that $n$ heart attacks during the year all occur on different days is__\n",
    "\n",
    "<br>\n",
    "\n",
    "<center> $\\dfrac{365}{365} \\cdot \\dfrac{364}{365} \\cdot \\dfrac{363}{365} \\cdot \\dots \\cdot \\dfrac{365 - n + 1}{365}$. </center>"
   ]
  },
  {
   "cell_type": "markdown",
   "metadata": {},
   "source": [
    "For this modeling situation we make the assumption that the heart attacks in the physician's population are independent. This is a very reasonable assumption. The only way I can think of them being dependent is if some patient's know each other intimiately, friends or family, and the heart attacks of their loved ones potentially triggers or quickens the onset of some people's heart attacks. This would likely be a small effect that could potentially be accounted for, but the aforementioned effect is probably so negligable that adding it into the model would unnecessarily complicate it. Indeed, the problem states to assume a Poisson process.\n",
    "\n",
    "<br>\n",
    "\n",
    "We will prove this using induction. Suppose that $m$ heart attacks happen during a year. To find the probability that $n \\le m$ randomly chosen heart attacks occur on different days we must use the fact that these heart attacks occur at random. For example, suppose that $1$ random heart attack took place. Since we can say that $1$ heart attack certainly occurred on one distinct day, we know that $H_{1} = 1$. That is, think about splitting up the year into $365$ equivalent time slots, which are days. The probability of $1$ heart attack occuring in one of these time slots that does not also have a heart attack in it is $365/365$ because it is equally likely it is within any of these slots (hence dividing by $365$) and all of the slots are available (hence the numerator of $365$). Now we have shown that the base case holds, suppose that the probability that $k$ heart attacks all occur on separate days is \n",
    "\n",
    "<br>\n",
    "\n",
    "$H_{k} = \\dfrac{365}{365} \\cdot \\dfrac{364}{365} \\cdot \\dfrac{363}{365} \\cdot \\dots \\cdot \\dfrac{365 - k + 1}{365}$.\n",
    "\n",
    "<br>\n",
    "\n",
    "We hope to show that \n",
    "\n",
    "<br>\n",
    "\n",
    "$H_{k+1} = \\dfrac{365}{365} \\cdot \\dfrac{364}{365} \\cdot \\dfrac{363}{365} \\cdot \\dots \\cdot \\dfrac{365 - k + 1}{365} \\cdot \\dfrac{365 - k}{365}$.\n",
    "\n",
    "<br>\n",
    "\n",
    "This is relatively straight forward. Since heart attacks are independent we can say that the probability of $k+1$ heart attacks happening on distinct days is equal to the probability that $k$ heart attacks happened on distinct days and one more heart attack happened on a day during which none of the other $k$ heart attacks happened. That is, $H_{k+1} = H_{k} \\cdot P($1 more heart attack happens on a day during which the other $k$ did not$)$. Since this \"final\" heart attack is also equally likely to be in any of the $365$ days of the year, the probability that the \"final\" heart attack is not on any of the days during which there is has already been a heart attack is equal to the fraction of days on which none of the other $k$ heart attacks have happened. That is, \n",
    "\n",
    "<br>\n",
    "\n",
    "$P($1 heart attack happens on a day during which the other $k$ did not$) = \\dfrac{365 - k}{365}$;\n",
    "\n",
    "<br>\n",
    "\n",
    "thus, we have\n",
    "\n",
    "<br>\n",
    "\n",
    "$H_{k+1} = \\dfrac{365}{365} \\cdot \\dfrac{364}{365} \\cdot \\dfrac{363}{365} \\cdot \\dots \\cdot \\dfrac{365 - k + 1}{365} \\cdot \\dfrac{365 - k}{365}$,\n",
    "\n",
    "<br>\n",
    "\n",
    "as desired."
   ]
  },
  {
   "cell_type": "markdown",
   "metadata": {},
   "source": [
    "__(c) What is the probability, $D$, that the doctor has to respond to two or more heart attacks on the same day sometime this year?__"
   ]
  },
  {
   "cell_type": "markdown",
   "metadata": {},
   "source": [
    "We can compute $D$ by using the $H_{n}$. Let $P_{BAD}(n)$ be the probability that when $n$ heart attacks occur at least two of these heart attacks occur on the same day. It is impossible for $0$ or $1$ heart attack to occur on two distinct days, so $P_{BAD}(0) = P_{BAD}(1) = 0$. In fact, it is not necessary for our function to be defined here because this is useless, obvious information. Now either $0$, $1$, or more than $1$ heart attacks can occur during the year. The complement of the set containing all possible ways that two heart attacks can occur on the same day clearly includes when $0$ and $1$ heart attacks happen. The rest of the complement is when more than $1$ heart attack occurs per year and all of these attacks happened on distinct days, so $P_{BAD}(n) = 1 - H_{n}$ for $n \\ge 2$ That is, we have the following relationship:\n",
    "\n",
    "<br>\n",
    "\n",
    "$$D = 1 - P_{0} - P_{1} - \\sum_{x \\in [2, \\infty)} P_{BAD}(x)P(X = x) =$$ $$1 - P_{0} - P_{1} - \\sum_{x \\in [2, \\infty)} (1 - H_{x})P(X = x)$$.\n",
    "\n",
    "<br>\n",
    "\n",
    "We know have everything we need to make this computation."
   ]
  },
  {
   "cell_type": "code",
   "execution_count": 2,
   "metadata": {
    "collapsed": false
   },
   "outputs": [
    {
     "name": "stdout",
     "output_type": "stream",
     "text": [
      "The above calculation stopped after considering 48 heart attacks, and gives an approximate \n",
      "probability of 0.06868354406248248.\n"
     ]
    }
   ],
   "source": [
    "percent_increase = 10000\n",
    "ave_rate = 365/14\n",
    "sum_index = 2\n",
    "\n",
    "p0 = pdf(ave_rate, 0)\n",
    "p1 = pdf(ave_rate, 1)\n",
    "rest = 0\n",
    "Hk = []\n",
    "\n",
    "while percent_increase > .01:\n",
    "    rest_prev = rest\n",
    "    Hk.append((365 - sum_index + 1)/365)\n",
    "    rest += pdf(ave_rate, sum_index)*(1 - Hk[-1])\n",
    "    if rest_prev != 0:\n",
    "        percent_increase = percent_increased(rest, rest_prev)\n",
    "    sum_index += 1\n",
    "\n",
    "sum_index -= 1\n",
    "\n",
    "print(\"The above calculation stopped after considering \" + str(sum_index) + \" heart\" + \\\n",
    "      \" attacks, and gives an approximate \" + '\\n' + \"probability of \" + \\\n",
    "      str(rest) + \".\")"
   ]
  },
  {
   "cell_type": "markdown",
   "metadata": {},
   "source": [
    "**Problem 7.11:** A squadron of 16 bombers needs to penetrate air defenses to reach its target. They can either fly low and expose themselves to the air defense guns, or fly high and expose themselves to surface-to-air missiles. In either case, the air defense firing sequence proceeds in three stages. First, they must detect the target, then they must acquire the target (lock on target), and finally they must hit the target. Each of these stages may or may not succeed. The probabilities are as follows:\n",
    "\n",
    "\\begin{table}\n",
    "\n",
    "\\begin{tabular}{ c c c c } \n",
    "\n",
    "\\hline\n",
    "AD Type & P_{detect} & P_{acquire} & P_{hit} \\\\ [0.5ex] \n",
    "\\hline\n",
    "Low & 0.90 & 0.80 & 0.05 \\\\ \n",
    "High & 0.75 & 0.95 & 0.70 \\\\ [1ex] \n",
    "\\hline\n",
    "\n",
    "\\end{tabular}\n",
    "\n",
    "\\end{table}\n",
    "\n",
    "The guns can fire 20 shells per minute, and the missile installation can fire three per minute. The proposed flight path will expose the planes for one minute if they fly low, and five minutes if they fly high."
   ]
  },
  {
   "cell_type": "markdown",
   "metadata": {},
   "source": []
  },
  {
   "cell_type": "markdown",
   "metadata": {},
   "source": [
    "**(a) Determine the optimal flight path (low or high). The objective is to maximize the number of bombers that survive to strike the target.**"
   ]
  },
  {
   "cell_type": "markdown",
   "metadata": {},
   "source": [
    "In order to maximize the number of bombers that survive, we will minimize the expected number of bombers hit. Let the discrete random variable $H$ be the number of bombers hit if $m$ bombers fly high, and let the discrete random variable $L$ be the number of bombers hit if $m$ bombers fly low. We will make the following assumptions:\n",
    "\n",
    "<br>\n",
    "\n",
    "**Assumptions:**\n",
    "\n",
    "(1) The probability of success for each bullet is independent of the successes or failures of previously fired bullets.\n",
    "\n",
    "(2) The probability of detection and acquisition does not depend on the success or failures of previous or concurrent targets and acquisitions. This assumption implies that the defense system is good enough and the number of bombers is low enough that the number of bombers being actively tracked or currently acquired does not decrease the effectiveness of the defense system.\n",
    "\n",
    "(3) There are enough guns and missile systems such that each of them could possibly have a target. That is, there are more firing systems than planes. Now this is a crazy assumption, but if one had to deal with there not being enough guns, a lot of complicated temporal issues and decision making get involved, and it would be much more plausible that our successes and failures of detection, acquisition, and hitting are interrelated.\n",
    "\n",
    "(4) Once a target has been detected, it stays detected.\n",
    "\n",
    "(5) Once a target has been acquired, it stays acquired.\n",
    "\n",
    "(6) A target cannot be accidentally hit, because, presumabely, the defense system should not allow for firing random missles when a target is not acquired, which first requires it to be targeted.\n",
    "\n",
    "<br>\n",
    "\n",
    "Suppose we start out a mission with $m$ bombers. Then the number of bombers targeted during the flight, $t$, the number of bombers acquired during the flight, $a$, and the number of bombers destroyed during the flight, $x$, are such that $m \\ge t \\ge a \\ge x$. Let the discrete random variable $M$ be the number of bombers destroyed if $m$ bombers fly along some path with probability of each being targeted $P_t$, probability of each targeted bomber being acquired $P_a$, and probability of each bullet hitting an acquired plane $P_h$. Now let the discrete random variable $T$ be the number of $m$ planes which are successfully targeted; let the discrete random variable $A$ be the number of $t$ targeted planes that are successfully acquired; and let $X$ be the number of $a$ acquired planes that are successfully hit. In order for a bomber to be destroyed it must be targeted, then acquired, and then hit. Due to the nature of the problem it is clear that we have been given the described probabilities $P_t$, $P_a$, and $P_h$ for each of the high and low paths, and we can use $M$ as our generalization of $H$ and $L$. Thus, we have $P(M = x) = P(x$ bombers are hit $|a$ bombers are acquired$) \\cdot P(a$ bombers are acquired $| t$ bombers are targeted$) \\cdot P(t$ bombers are targeted$) = P(X = x) \\cdot P(A = a) \\cdot P(T = t)$.\n",
    "\n",
    "<br>\n",
    "\n",
    "Now we must define $P(T = t)$, $P(A = a)$, and $P(X = x)$. Each of $T$, $A$, and $X$ have binomial distributions. Let $b$ be the number of bullets shot during a flight. Then $T$, $A$, and $X$ have number of trials $m$, $t$, and $a$, number of successful outcomes $t$, $a$, and $x$, and probabilities of success $P_t$, $P_a$, and $P_h$, respectively."
   ]
  },
  {
   "cell_type": "markdown",
   "metadata": {},
   "source": [
    "**(b) Each individual bomber has a 70% chance to destroy the target. Use the results of part (a) to determine the chances of success (target destroyed) for this mission.**"
   ]
  },
  {
   "cell_type": "markdown",
   "metadata": {},
   "source": [
    "We have already assumed that the probability of success for each bomber is fixed at 70%, meaning the probability of success for one bomber does not depend on the successes or failures of other bombers. Thus, we have a binomial distribution with probability of success, $p$, equal to $0.7$. Thus, for $n$ surviving bombers each with probability of success $p$, the probability than $x$ of them destroy the target is given by the binomial pdf\n",
    "\n",
    "<br>\n",
    "\n",
    "$P(n, x, p) ="
   ]
  },
  {
   "cell_type": "markdown",
   "metadata": {},
   "source": [
    "**(c) Determine the minimum number of bombers necessary to guarantee a 95% chance of mission success.**"
   ]
  },
  {
   "cell_type": "markdown",
   "metadata": {},
   "source": [
    "We have already assumed that the probability of success for each bomber is fixed at 70%, meaning the probability of success for one bomber does not depend on the successes or failures of other bombers."
   ]
  },
  {
   "cell_type": "markdown",
   "metadata": {},
   "source": [
    "**(e) Bad weather reduces both $P_{detect}$ and $p$, the probability that a bomber can destroy the target. If all of these probabilities are reduced in the same proportion, which side gaims an advantage in bad weather?**"
   ]
  },
  {
   "cell_type": "markdown",
   "metadata": {},
   "source": []
  },
  {
   "cell_type": "markdown",
   "metadata": {},
   "source": [
    "**Problem 8.2:** (Requires a computer algebra system) Reconsider the inventory problem of Example $8.1$. In this problem we will explore the sensitivity of the probability $p$ that demand exceeds supply to the demand rate $\\lambda$."
   ]
  },
  {
   "cell_type": "markdown",
   "metadata": {},
   "source": [
    "__(a) Calculate the probability that the demand for aquariums in a given weed exceeds the supply. Use the five-step method, and model as a Markov chain in steady state.__"
   ]
  },
  {
   "cell_type": "markdown",
   "metadata": {},
   "source": [
    "__(b) Perform a sensitivity analysis on the demand rate $\\lambda$. Calculate the steady-state probability that demand exceeds supply, assuming $\\lambda = 0.75$, $0.9$, $1.0$, $1,1$, and $1.25$, and display in graphical form, as in Figure $8.5$.__"
   ]
  },
  {
   "cell_type": "markdown",
   "metadata": {},
   "source": [
    "__(c) Let $p$ denote the steady-state probability that demand exceeds supply. Use the results of part (b) to estimate $S(p, \\lambda)$.__"
   ]
  },
  {
   "cell_type": "markdown",
   "metadata": {},
   "source": [
    "__Problem 8.3:__ Reconsider the inventory problem of Example $8.1$, but now suppose that the inventory policy depends on recent sales history. Whenever inventory drops to zero, the number of units ordered is equal to two plus the number sold over the past week, up to a maximum of four."
   ]
  },
  {
   "cell_type": "markdown",
   "metadata": {},
   "source": [
    "__(a) Determine the steady-state probability ditribution of the number of aquariums in stock. Use the five-step method, and model as a Markov chain.__"
   ]
  },
  {
   "cell_type": "markdown",
   "metadata": {},
   "source": [
    "__(b) Determine the steady-state probability that demand exceeds supply.__"
   ]
  },
  {
   "cell_type": "markdown",
   "metadata": {},
   "source": [
    "__(c) Determine the average size of a resupply order.__"
   ]
  },
  {
   "cell_type": "markdown",
   "metadata": {},
   "source": [
    "__(d) Repeat parts (a) and (b), but now suppose that weekly demand is Poisson with a mean of $2$ customers per week.__"
   ]
  },
  {
   "cell_type": "code",
   "execution_count": null,
   "metadata": {
    "collapsed": true
   },
   "outputs": [],
   "source": []
  }
 ],
 "metadata": {
  "kernelspec": {
   "display_name": "Python 3",
   "language": "python",
   "name": "python3"
  },
  "language_info": {
   "codemirror_mode": {
    "name": "ipython",
    "version": 3
   },
   "file_extension": ".py",
   "mimetype": "text/x-python",
   "name": "python",
   "nbconvert_exporter": "python",
   "pygments_lexer": "ipython3",
   "version": "3.4.3"
  }
 },
 "nbformat": 4,
 "nbformat_minor": 0
}
