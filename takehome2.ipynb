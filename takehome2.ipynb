{
 "cells": [
  {
   "cell_type": "markdown",
   "metadata": {},
   "source": [
    "# Mathematical Modeling: Takehome 2:\n",
    "## Chapter 7: 10, 11abce; Chapter 8: 2, 3\n",
    "### Author: Mitch Lowry <br> Date: April 22, 2016"
   ]
  },
  {
   "cell_type": "markdown",
   "metadata": {},
   "source": [
    "**Problem 7.10:** (Murphy's Law, part $III$) A doctor of internal medicine with a busy practice expects to be called into the hospital to respond to a serious heart attack on average about once every two weeks. Assume that heart attacks in this physician's patient population occur at random with this rate. Once such emergency call is a challenge. Two such calls in a single day is a disaster."
   ]
  },
  {
   "cell_type": "markdown",
   "metadata": {},
   "source": [
    "__(a) How many heart attacks should the physician expect to respond to in a single year?__"
   ]
  },
  {
   "cell_type": "markdown",
   "metadata": {},
   "source": [
    "__(b) Explain why the probability that $n$ heart attacks during the year all occur on different days is__\n",
    "\n",
    "<br>\n",
    "\n",
    "<center> $\\dfrac{365}{365} \\cdot \\dfrac{364}{365} \\cdot \\dfrac{363}{365} \\cdot \\dfrac{365 - n + 1}{365}$. </center>\n",
    "\n",
    "<br>"
   ]
  },
  {
   "cell_type": "markdown",
   "metadata": {},
   "source": [
    "__(c) What is the probability that the doctor has to respond to two or more heart attacks on the same day sometime this year?__"
   ]
  },
  {
   "cell_type": "markdown",
   "metadata": {},
   "source": [
    "**Problem 7.11:** A squadron of 16 bombers needs to penetrate air defenses to reach its target. They can either fly low and expose themselves to the air defense guns, or fly high and expose themselves to surface-to-air missiles. In either case, the air defense firing sequence proceeds in three stages. First, they must detect the target, then they must acquire the target (lock on target), and finally they must hit the target. Each of these stages may or may not suceed. The probabilities are as follows:\n",
    "\n",
    "<br>\n",
    "\n",
    "\\begin{tabular}{c c c c} \n",
    "\\hline\n",
    "AD Type & P_{detect} & P_{acquire} & P_{hit} \\\\ [0.5ex] \n",
    "\\hline\n",
    "Low & 0.90 & 0.80 & 0.05 \\\\ \n",
    "High & 0.75 & 0.95 & 0.70 \\\\ [1ex] \n",
    "\\hline\n",
    "\\end{tabular}\n",
    "\n",
    "<br>\n",
    "\n",
    "The guns can fire 20 shells per minute, and the missile installation can fire three per minut. The proposed flight path will expose the planes for one minutes if they fly low, and five minutes if they fly high."
   ]
  },
  {
   "cell_type": "markdown",
   "metadata": {},
   "source": [
    "**(a) Determine the optial flight path (low or high). The objective is to maximize the number of bombers that survive to strike the target.**"
   ]
  },
  {
   "cell_type": "markdown",
   "metadata": {},
   "source": [
    "**(b) Each individual bomber has a 70% chance to destroy the target. Use the results of part (a) to determine the changes of success (target destroyed) for this mission.**"
   ]
  },
  {
   "cell_type": "markdown",
   "metadata": {},
   "source": [
    "**(c) Determine the minimum number of bombers necessary to guarantee a 95% chance of mission success.**"
   ]
  },
  {
   "cell_type": "markdown",
   "metadata": {},
   "source": [
    "**(e) Bad weather reduces both $P_{detect}$ and $p$, the probability that a bomber can destroy the target. If all of these probabilities are reduced in the same proportion, which side gaims an advantage in bad weather?**"
   ]
  },
  {
   "cell_type": "markdown",
   "metadata": {},
   "source": []
  },
  {
   "cell_type": "markdown",
   "metadata": {},
   "source": [
    "**Problem 8.2:** (Requires a computer algebra system) Reconsider the inventory problem of Example $8.1$. In this problem we will explore the sensitivity of the probability $p$ that demand exceeds supply to the demand rate $\\lambda$."
   ]
  },
  {
   "cell_type": "markdown",
   "metadata": {},
   "source": [
    "__(a) Calculate the probability that the demand for aquariums in a given weed exceeds the supply. Use the five-step method, and model as a Markov chain in steady state.__"
   ]
  },
  {
   "cell_type": "markdown",
   "metadata": {},
   "source": [
    "__(b) Perform a sensitivity analysis on the demand rate $\\lambda$. Calculate the steady-state probability that demand exceeds supply, assuming $\\lambda = 0.75$, $0.9$, $1.0$, $1,1$, and $1.25$, and display in graphical form, as in Figure $8.5$.__"
   ]
  },
  {
   "cell_type": "markdown",
   "metadata": {},
   "source": [
    "__(c) Let $p$ denote the steady-state probability that demand exceeds supply. Use the results of part (b) to estimate $S(p, \\lambda)$.__"
   ]
  },
  {
   "cell_type": "markdown",
   "metadata": {},
   "source": [
    "__Problem 8.3:__ Reconsider the inventory problem of Example $8.1$, but now suppose that the inventory policy depends on recent sales history. Whenever inventory drops to zero, the number of units ordered is equal to two plus the number sold over the past week, up to a maximum of four."
   ]
  },
  {
   "cell_type": "markdown",
   "metadata": {},
   "source": [
    "__(a) Determine the steady-state probability ditribution of the number of aquariums in stock. Use the five-step method, and model as a Markov chain.__"
   ]
  },
  {
   "cell_type": "markdown",
   "metadata": {},
   "source": [
    "__(b) Determine the steady-state probability that demand exceeds supply.__"
   ]
  },
  {
   "cell_type": "markdown",
   "metadata": {},
   "source": [
    "__(c) Determine the average size of a resupply order.__"
   ]
  },
  {
   "cell_type": "markdown",
   "metadata": {},
   "source": [
    "__(d) Repeat parts (a) and (b), but now suppose that weekly demand is Poisson with a mean of $2$ customers per week.__"
   ]
  },
  {
   "cell_type": "code",
   "execution_count": null,
   "metadata": {
    "collapsed": true
   },
   "outputs": [],
   "source": []
  }
 ],
 "metadata": {
  "kernelspec": {
   "display_name": "Python 3",
   "language": "python",
   "name": "python3"
  },
  "language_info": {
   "codemirror_mode": {
    "name": "ipython",
    "version": 3
   },
   "file_extension": ".py",
   "mimetype": "text/x-python",
   "name": "python",
   "nbconvert_exporter": "python",
   "pygments_lexer": "ipython3",
   "version": "3.4.3"
  }
 },
 "nbformat": 4,
 "nbformat_minor": 0
}
